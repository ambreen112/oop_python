{
  "nbformat": 4,
  "nbformat_minor": 0,
  "metadata": {
    "colab": {
      "provenance": [],
      "authorship_tag": "ABX9TyOs9r64J7r1ec5S6k91rYku",
      "include_colab_link": true
    },
    "kernelspec": {
      "name": "python3",
      "display_name": "Python 3"
    },
    "language_info": {
      "name": "python"
    }
  },
  "cells": [
    {
      "cell_type": "markdown",
      "metadata": {
        "id": "view-in-github",
        "colab_type": "text"
      },
      "source": [
        "<a href=\"https://colab.research.google.com/github/ambreen112/oop_python/blob/main/question18.ipynb\" target=\"_parent\"><img src=\"https://colab.research.google.com/assets/colab-badge.svg\" alt=\"Open In Colab\"/></a>"
      ]
    },
    {
      "cell_type": "markdown",
      "source": [
        "18. Property Decorators: @property, @setter, and @deleter\n",
        "Assignment:\n",
        "Create a class Product with a private attribute _price. Use @property to get the price, @price.setter to update it, and @price.deleter to delete it."
      ],
      "metadata": {
        "id": "KCywpNJl4gpm"
      }
    },
    {
      "cell_type": "code",
      "source": [
        "class Product:\n",
        "    def __init__(self, price):\n",
        "        self._price = price  # private attribute\n",
        "\n",
        "    @property\n",
        "    def price(self):\n",
        "        print(\"Getting price...\")\n",
        "        return self._price\n",
        "\n",
        "    @price.setter\n",
        "    def price(self, value):\n",
        "        print(\"Setting price...\")\n",
        "        if value < 0:\n",
        "            raise ValueError(\"Price cannot be negative\")\n",
        "        self._price = value\n",
        "\n",
        "    @price.deleter\n",
        "    def price(self):\n",
        "        print(\"Deleting price...\")\n",
        "        del self._price\n",
        "\n",
        "\n",
        "# Create a product\n",
        "p = Product(100)\n",
        "\n",
        "# Access price using @property\n",
        "print(p.price)  # Output: 100\n",
        "\n",
        "# Update price using @price.setter\n",
        "p.price = 150\n",
        "print(p.price)  # Output: 150\n",
        "\n",
        "# Delete price using @price.deleter\n",
        "del p.price\n",
        "\n"
      ],
      "metadata": {
        "colab": {
          "base_uri": "https://localhost:8080/"
        },
        "id": "-8FVgm5O4lXm",
        "outputId": "f4ee78ca-c730-40cb-afa0-f3fb2356c475"
      },
      "execution_count": 9,
      "outputs": [
        {
          "output_type": "stream",
          "name": "stdout",
          "text": [
            "Getting price...\n",
            "100\n",
            "Setting price...\n",
            "Getting price...\n",
            "150\n",
            "Deleting price...\n"
          ]
        }
      ]
    }
  ]
}