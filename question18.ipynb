{
  "nbformat": 4,
  "nbformat_minor": 0,
  "metadata": {
    "colab": {
      "provenance": [],
      "authorship_tag": "ABX9TyMZopXpLZkwfmakplacaRct",
      "include_colab_link": true
    },
    "kernelspec": {
      "name": "python3",
      "display_name": "Python 3"
    },
    "language_info": {
      "name": "python"
    }
  },
  "cells": [
    {
      "cell_type": "markdown",
      "metadata": {
        "id": "view-in-github",
        "colab_type": "text"
      },
      "source": [
        "<a href=\"https://colab.research.google.com/github/ambreen112/oop_python/blob/main/question18.ipynb\" target=\"_parent\"><img src=\"https://colab.research.google.com/assets/colab-badge.svg\" alt=\"Open In Colab\"/></a>"
      ]
    },
    {
      "cell_type": "markdown",
      "source": [
        "18. Property Decorators: @property, @setter, and @deleter\n",
        "Assignment:\n",
        "Create a class Product with a private attribute _price. Use @property to get the price, @price.setter to update it, and @price.deleter to delete it."
      ],
      "metadata": {
        "id": "ld_X4E6FhzUQ"
      }
    },
    {
      "cell_type": "code",
      "source": [
        "class Product:\n",
        "    def __init__(self, price):\n",
        "        # Set the initial price using the setter\n",
        "        # This ensures the validation logic is applied even during initialization\n",
        "        self.price = price\n",
        "\n",
        "    # Getter method - MUST be defined first for the property\n",
        "    @property\n",
        "    def price(self):\n",
        "        # Return the internal private attribute\n",
        "        return self._price\n",
        "\n",
        "    # Setter method - MUST be defined immediately after the getter for the same property\n",
        "    @price.setter\n",
        "    def price(self, value):\n",
        "        if value < 0:\n",
        "            print(\"Price can't be negative!\")\n",
        "        else:\n",
        "            # Set the internal private attribute\n",
        "            self._price = value\n",
        "\n",
        "    @price.deleter\n",
        "    def price(self):\n",
        "        print(\"Deleting price...\")\n",
        "        # Delete the internal private attribute\n",
        "        del self._price\n",
        "\n",
        "p = Product(100)\n",
        "\n",
        "print(p.price)      #  Get the price\n",
        "p.price = 150       #  Set a new price\n",
        "print(p.price)\n",
        "\n",
        "p.price = -50       #  Try setting a negative price (not allowed)\n",
        "\n",
        "del p.price"
      ],
      "metadata": {
        "colab": {
          "base_uri": "https://localhost:8080/"
        },
        "id": "jN51vAx-04Ea",
        "outputId": "69686e6d-7c24-495e-df48-e2179ab98407"
      },
      "execution_count": 5,
      "outputs": [
        {
          "output_type": "stream",
          "name": "stdout",
          "text": [
            "100\n",
            "150\n",
            "Price can't be negative!\n",
            "Deleting price...\n"
          ]
        }
      ]
    }
  ]
}