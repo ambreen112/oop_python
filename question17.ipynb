{
  "nbformat": 4,
  "nbformat_minor": 0,
  "metadata": {
    "colab": {
      "provenance": [],
      "authorship_tag": "ABX9TyOPyHUR/HA8CwVPKhxCPWEx",
      "include_colab_link": true
    },
    "kernelspec": {
      "name": "python3",
      "display_name": "Python 3"
    },
    "language_info": {
      "name": "python"
    }
  },
  "cells": [
    {
      "cell_type": "markdown",
      "metadata": {
        "id": "view-in-github",
        "colab_type": "text"
      },
      "source": [
        "<a href=\"https://colab.research.google.com/github/ambreen112/oop_python/blob/main/question17.ipynb\" target=\"_parent\"><img src=\"https://colab.research.google.com/assets/colab-badge.svg\" alt=\"Open In Colab\"/></a>"
      ]
    },
    {
      "cell_type": "markdown",
      "source": [
        "17.  Class Decorators\n",
        "Assignment:\n",
        "Create a class decorator add_greeting that modifies a class to add a greet() method returning \"Hello from Decorator!\". Apply it to a class Person."
      ],
      "metadata": {
        "id": "fQmJ8GxgfzD1"
      }
    },
    {
      "cell_type": "code",
      "source": [
        "def add_greeting(cls):\n",
        "  def greet(self):\n",
        "    return \"Hello from Decorator!\"\n",
        "  cls.greet = greet\n",
        "  return cls\n",
        "\n",
        "@add_greeting\n",
        "class Person:\n",
        "  def __init__(self, name):\n",
        "    self.name = name\n",
        "\n",
        "person = Person(\"sana\")\n",
        "print(person.greet())\n",
        "\n"
      ],
      "metadata": {
        "colab": {
          "base_uri": "https://localhost:8080/"
        },
        "id": "GOIHBOqLf6pr",
        "outputId": "f0843f34-3620-441b-db47-b2cb42bd4ce5"
      },
      "execution_count": 12,
      "outputs": [
        {
          "output_type": "stream",
          "name": "stdout",
          "text": [
            "Hello from Decorator!\n"
          ]
        }
      ]
    }
  ]
}