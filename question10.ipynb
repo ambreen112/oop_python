{
  "nbformat": 4,
  "nbformat_minor": 0,
  "metadata": {
    "colab": {
      "provenance": [],
      "authorship_tag": "ABX9TyMyklfVBudtdaVzWydDMC+g",
      "include_colab_link": true
    },
    "kernelspec": {
      "name": "python3",
      "display_name": "Python 3"
    },
    "language_info": {
      "name": "python"
    }
  },
  "cells": [
    {
      "cell_type": "markdown",
      "metadata": {
        "id": "view-in-github",
        "colab_type": "text"
      },
      "source": [
        "<a href=\"https://colab.research.google.com/github/ambreen112/oop_python/blob/main/question10.ipynb\" target=\"_parent\"><img src=\"https://colab.research.google.com/assets/colab-badge.svg\" alt=\"Open In Colab\"/></a>"
      ]
    },
    {
      "cell_type": "markdown",
      "source": [
        "10.  Instance Methods\n",
        "Assignment:\n",
        "Create a class Dog with instance variables name and breed. Add an instance method bark() that prints a message including the dog's name.\n",
        "\n"
      ],
      "metadata": {
        "id": "4JNqCmfvR2Mw"
      }
    },
    {
      "cell_type": "code",
      "source": [
        "class Dog:\n",
        "  def __init__(self, name, breed):\n",
        "    self.name = name\n",
        "    self.bread = breed\n",
        "  def bark(self):\n",
        "      print(f\"{self.name} is barking! Woof woof!\")\n",
        "\n",
        "d = Dog(\"Tommy\", \"meat\")\n",
        "d.bark()\n",
        ""
      ],
      "metadata": {
        "colab": {
          "base_uri": "https://localhost:8080/"
        },
        "id": "24u-sX4pR4J-",
        "outputId": "d98e829d-1002-4c10-8d4d-0c96cfc46721"
      },
      "execution_count": 7,
      "outputs": [
        {
          "output_type": "stream",
          "name": "stdout",
          "text": [
            "Tommy is barking! Woof woof!\n"
          ]
        }
      ]
    }
  ]
}