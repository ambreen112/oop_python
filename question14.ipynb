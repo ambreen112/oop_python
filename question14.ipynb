{
  "nbformat": 4,
  "nbformat_minor": 0,
  "metadata": {
    "colab": {
      "provenance": [],
      "authorship_tag": "ABX9TyOjwWCyat/6jBtkjqXkRwWy",
      "include_colab_link": true
    },
    "kernelspec": {
      "name": "python3",
      "display_name": "Python 3"
    },
    "language_info": {
      "name": "python"
    }
  },
  "cells": [
    {
      "cell_type": "markdown",
      "metadata": {
        "id": "view-in-github",
        "colab_type": "text"
      },
      "source": [
        "<a href=\"https://colab.research.google.com/github/ambreen112/oop_python/blob/main/question14.ipynb\" target=\"_parent\"><img src=\"https://colab.research.google.com/assets/colab-badge.svg\" alt=\"Open In Colab\"/></a>"
      ]
    },
    {
      "cell_type": "markdown",
      "source": [
        "14. Aggregation\n",
        "Assignment:\n",
        "Create a class Department and a class Employee. Use aggregation by having a Department object store a reference to an Employee object that exists independently of it."
      ],
      "metadata": {
        "id": "KZ8FoRXNyqVm"
      }
    },
    {
      "cell_type": "code",
      "source": [
        "class Employee:\n",
        "   def __init__(self, name, salary):\n",
        "    self.name = name\n",
        "    self.salary = salary\n",
        "\n",
        "   def show(self):\n",
        "        print(f\"Employee: {self.name}, Salary: {self.salary}\")\n",
        "\n",
        "\n",
        "\n",
        "class Department:\n",
        "    def __init__(self, name, employee):\n",
        "     self.name = name\n",
        "     self.employee = employee\n",
        "\n",
        "\n",
        "    def show_employee(self):\n",
        "        print(f\"Department: {self.name}\")\n",
        "        self.employee.show()\n",
        "\n",
        "emp = Employee(\"Aliya\", 50000)\n",
        "\n",
        "# Pass Employee to Department (aggregation)\n",
        "dept = Department(\"HR\", emp)\n",
        "\n",
        "# Show info via Department\n",
        "dept.show_employee()\n",
        "\n",
        "\n",
        ""
      ],
      "metadata": {
        "colab": {
          "base_uri": "https://localhost:8080/"
        },
        "id": "CViksgOSyuVv",
        "outputId": "ef83d854-511a-4299-b4c3-0d085bc07d9a"
      },
      "execution_count": 9,
      "outputs": [
        {
          "output_type": "stream",
          "name": "stdout",
          "text": [
            "Department: HR\n",
            "Employee: Aliya, Salary: 50000\n"
          ]
        }
      ]
    }
  ]
}