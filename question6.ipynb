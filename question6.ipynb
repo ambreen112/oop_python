{
  "nbformat": 4,
  "nbformat_minor": 0,
  "metadata": {
    "colab": {
      "provenance": [],
      "authorship_tag": "ABX9TyOPSMn9VbPOeQZcBLpC69Iu",
      "include_colab_link": true
    },
    "kernelspec": {
      "name": "python3",
      "display_name": "Python 3"
    },
    "language_info": {
      "name": "python"
    }
  },
  "cells": [
    {
      "cell_type": "markdown",
      "metadata": {
        "id": "view-in-github",
        "colab_type": "text"
      },
      "source": [
        "<a href=\"https://colab.research.google.com/github/ambreen112/oop_python/blob/main/question6.ipynb\" target=\"_parent\"><img src=\"https://colab.research.google.com/assets/colab-badge.svg\" alt=\"Open In Colab\"/></a>"
      ]
    },
    {
      "cell_type": "markdown",
      "source": [
        "6. Constructors and Destructors\n",
        "Assignment:\n",
        "Create a class Logger that prints a message when an object is created (constructor) and another message when it is destroyed (destructor)."
      ],
      "metadata": {
        "id": "7ZBP2L0Mm2rx"
      }
    },
    {
      "cell_type": "code",
      "source": [
        "class Logger:\n",
        "  def __init__(self, message):\n",
        "    self.message = message\n",
        "    print(f\"{self.message}\")\n",
        "\n",
        "  def __del__(self):\n",
        "     print(f\"Logger object with message '{self.message}' is being destroyed.\")\n",
        "\n",
        "b1 = Logger(\"you are smart\")\n",
        "b2 = Logger(\"you are fool\")\n",
        "\n",
        "\n"
      ],
      "metadata": {
        "colab": {
          "base_uri": "https://localhost:8080/"
        },
        "id": "J-41rUWJm-wS",
        "outputId": "b4a0f1bd-0328-449d-cd8b-071361fe57cd"
      },
      "execution_count": null,
      "outputs": [
        {
          "output_type": "stream",
          "name": "stdout",
          "text": [
            "you are smart\n",
            "you are fool\n"
          ]
        }
      ]
    },
    {
      "cell_type": "code",
      "source": [
        "class Logger:\n",
        "    def __init__(self):\n",
        "        print(\"Logger object has been created.\")\n",
        "\n",
        "    def __del__(self):\n",
        "        print(\"Logger object is being destroyed.\")\n",
        "\n",
        "# Create an object of Logger\n",
        "log = Logger()\n",
        "\n",
        "# Optionally delete the object manually\n",
        "del log"
      ],
      "metadata": {
        "id": "4936SnwDscJ-",
        "outputId": "db90f57c-276e-4255-d8bd-b01b93e90b15",
        "colab": {
          "base_uri": "https://localhost:8080/"
        }
      },
      "execution_count": 18,
      "outputs": [
        {
          "output_type": "stream",
          "name": "stdout",
          "text": [
            "Logger object has been created.\n",
            "Logger object is being destroyed.\n"
          ]
        }
      ]
    }
  ]
}