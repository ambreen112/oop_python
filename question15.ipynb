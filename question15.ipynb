{
  "nbformat": 4,
  "nbformat_minor": 0,
  "metadata": {
    "colab": {
      "provenance": [],
      "authorship_tag": "ABX9TyNuFQCg5CrqRXuSC7CohmXT",
      "include_colab_link": true
    },
    "kernelspec": {
      "name": "python3",
      "display_name": "Python 3"
    },
    "language_info": {
      "name": "python"
    }
  },
  "cells": [
    {
      "cell_type": "markdown",
      "metadata": {
        "id": "view-in-github",
        "colab_type": "text"
      },
      "source": [
        "<a href=\"https://colab.research.google.com/github/ambreen112/oop_python/blob/main/question15.ipynb\" target=\"_parent\"><img src=\"https://colab.research.google.com/assets/colab-badge.svg\" alt=\"Open In Colab\"/></a>"
      ]
    },
    {
      "cell_type": "markdown",
      "source": [
        "15. . Method Resolution Order (MRO) and Diamond Inheritance\n",
        "Assignment:\n",
        "Create four classes:\n",
        "\n",
        "A with a method show(),\n",
        "\n",
        "B and C that inherit from A and override show(),\n",
        "\n",
        "D that inherits from both B and C.\n",
        "\n",
        "Create an object of D and call show() to observe MRO."
      ],
      "metadata": {
        "id": "xEqUgw-q1NQk"
      }
    },
    {
      "cell_type": "code",
      "source": [
        "class A:\n",
        "  def show(self):\n",
        "    print(\"this is A\")\n",
        "\n",
        "class B(A):\n",
        "  def show(self):\n",
        "    print(\"This is B\")\n",
        "\n",
        "class C(A):\n",
        "  def show(self):\n",
        "    print(\"This is C\")\n",
        "\n",
        "class D(B, C):\n",
        "   pass\n",
        "\n",
        "d = D()\n",
        "d.show()\n",
        "\n"
      ],
      "metadata": {
        "id": "cxCS6bVt1Q4Z",
        "colab": {
          "base_uri": "https://localhost:8080/"
        },
        "outputId": "4130816a-1c76-47e1-f5cc-4ab7018d1302"
      },
      "execution_count": 6,
      "outputs": [
        {
          "output_type": "stream",
          "name": "stdout",
          "text": [
            "This is B\n"
          ]
        }
      ]
    }
  ]
}