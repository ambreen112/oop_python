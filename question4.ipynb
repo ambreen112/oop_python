{
  "nbformat": 4,
  "nbformat_minor": 0,
  "metadata": {
    "colab": {
      "provenance": [],
      "authorship_tag": "ABX9TyNW0vdDkKvpaA1rwEdug1z0",
      "include_colab_link": true
    },
    "kernelspec": {
      "name": "python3",
      "display_name": "Python 3"
    },
    "language_info": {
      "name": "python"
    }
  },
  "cells": [
    {
      "cell_type": "markdown",
      "metadata": {
        "id": "view-in-github",
        "colab_type": "text"
      },
      "source": [
        "<a href=\"https://colab.research.google.com/github/ambreen112/oop_python/blob/main/question4.ipynb\" target=\"_parent\"><img src=\"https://colab.research.google.com/assets/colab-badge.svg\" alt=\"Open In Colab\"/></a>"
      ]
    },
    {
      "cell_type": "markdown",
      "source": [
        "4. Class Variables and Class Methods\n",
        "Assignment:\n",
        "Create a class Bank with a class variable bank_name. Add a class method change_bank_name(cls, name) that allows changing the bank name. Show that it affects all instances."
      ],
      "metadata": {
        "id": "VKtAyuDNfRii"
      }
    },
    {
      "cell_type": "code",
      "source": [
        "class Bank:\n",
        "    bank_name = \"Habib Bank\"\n",
        "\n",
        "    def __init__(self, name):\n",
        "      self.name = name\n",
        "\n",
        "\n",
        "    @classmethod\n",
        "    def change_bank_name(cls, new_name):\n",
        "      cls.bank_name = new_name\n",
        "\n",
        "b1 = Bank(\"My bank\")\n",
        "Bank.change_bank_name(\"Al-Kausar\")\n",
        "print(b1.bank_name)\n",
        "\n",
        ""
      ],
      "metadata": {
        "colab": {
          "base_uri": "https://localhost:8080/"
        },
        "id": "KQVELofwfTRf",
        "outputId": "8be93bb8-a024-43cd-b523-e4dcfa89c8fe"
      },
      "execution_count": 12,
      "outputs": [
        {
          "output_type": "stream",
          "name": "stdout",
          "text": [
            "Al-Kausar\n"
          ]
        }
      ]
    }
  ]
}