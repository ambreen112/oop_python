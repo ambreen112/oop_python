{
  "nbformat": 4,
  "nbformat_minor": 0,
  "metadata": {
    "colab": {
      "provenance": [],
      "authorship_tag": "ABX9TyMKJs761kpzWbJU5O/C1dMg",
      "include_colab_link": true
    },
    "kernelspec": {
      "name": "python3",
      "display_name": "Python 3"
    },
    "language_info": {
      "name": "python"
    }
  },
  "cells": [
    {
      "cell_type": "markdown",
      "metadata": {
        "id": "view-in-github",
        "colab_type": "text"
      },
      "source": [
        "<a href=\"https://colab.research.google.com/github/ambreen112/oop_python/blob/main/question.ipynb\" target=\"_parent\"><img src=\"https://colab.research.google.com/assets/colab-badge.svg\" alt=\"Open In Colab\"/></a>"
      ]
    },
    {
      "cell_type": "markdown",
      "source": [
        "2. Using cls\n",
        "Assignment:\n",
        "Create a class Counter that keeps track of how many objects have been created. Use a class variable and a class method with cls to manage and display the count."
      ],
      "metadata": {
        "id": "17OIddT-bSmd"
      }
    },
    {
      "cell_type": "code",
      "source": [
        "class Counter:\n",
        "  count = 0\n",
        "\n",
        "  def __init__(self):\n",
        "    Counter.count += 1\n",
        "\n",
        "  @classmethod\n",
        "  def display_count(cls):\n",
        "    print(f\"Total count: {cls.count}\")\n",
        "\n",
        "counter1 = Counter()\n",
        "counter2 = Counter()\n",
        "counter3 = Counter()\n",
        "\n",
        "Counter.display_count()\n"
      ],
      "metadata": {
        "colab": {
          "base_uri": "https://localhost:8080/"
        },
        "id": "sMVqQaO5bXG4",
        "outputId": "8ae9eb09-c16b-4d25-d425-a17efdd5d589"
      },
      "execution_count": 7,
      "outputs": [
        {
          "output_type": "stream",
          "name": "stdout",
          "text": [
            "Total count: 3\n"
          ]
        }
      ]
    }
  ]
}